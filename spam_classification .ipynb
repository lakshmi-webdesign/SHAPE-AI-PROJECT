{
  "nbformat": 4,
  "nbformat_minor": 0,
  "metadata": {
    "colab": {
      "name": "spam_classification.ipynb",
      "provenance": [],
      "collapsed_sections": []
    },
    "kernelspec": {
      "name": "python3",
      "display_name": "Python 3"
    },
    "language_info": {
      "name": "python"
    }
  },
  "cells": [
    {
      "cell_type": "code",
      "metadata": {
        "colab": {
          "base_uri": "https://localhost:8080/"
        },
        "id": "5jTePReTsJ6q",
        "outputId": "44944193-e07d-4b11-b852-04c0d82408a3"
      },
      "source": [
        "from nltk.tokenize import RegexpTokenizer, word_tokenize\n",
        "from nltk.stem import PorterStemmer\n",
        "from nltk.corpus import stopwords\n",
        "import numpy as np\n",
        "import pandas as pd\n",
        "import nltk\n",
        "nltk.download('stopwords')\n",
        "from sklearn.preprocessing import LabelEncoder\n",
        "from sklearn.feature_extraction.text import CountVectorizer\n",
        "from sklearn.model_selection import train_test_split\n",
        "\n",
        "from google.colab import drive\n",
        "drive.mount('/content/drive')"
      ],
      "execution_count": 101,
      "outputs": [
        {
          "output_type": "stream",
          "text": [
            "[nltk_data] Downloading package stopwords to /root/nltk_data...\n",
            "[nltk_data]   Package stopwords is already up-to-date!\n",
            "Drive already mounted at /content/drive; to attempt to forcibly remount, call drive.mount(\"/content/drive\", force_remount=True).\n"
          ],
          "name": "stdout"
        }
      ]
    },
    {
      "cell_type": "code",
      "metadata": {
        "id": "mugdKSM_83kq",
        "colab": {
          "base_uri": "https://localhost:8080/"
        },
        "outputId": "2cff5803-5795-4f96-8ecb-e89313a376dd"
      },
      "source": [
        "df = pd.read_csv('/content/drive/MyDrive/shapeaiproj/spam.csv' , encoding='ISO-8859-1')\n",
        "le = LabelEncoder()\n",
        "print()\n",
        "print(df.head())\n",
        "print()\n",
        "print(df.describe())\n",
        "print() \n",
        "print(df.info())\n",
        "print()\n",
        "print(df.shape)"
      ],
      "execution_count": 103,
      "outputs": [
        {
          "output_type": "stream",
          "text": [
            "\n",
            "  Label                                          EmailText\n",
            "0   ham  Go until jurong point, crazy.. Available only ...\n",
            "1   ham                      Ok lar... Joking wif u oni...\n",
            "2  spam  Free entry in 2 a wkly comp to win FA Cup fina...\n",
            "3   ham  U dun say so early hor... U c already then say...\n",
            "4   ham  Nah I don't think he goes to usf, he lives aro...\n",
            "\n",
            "       Label               EmailText\n",
            "count   5572                    5572\n",
            "unique     2                    5169\n",
            "top      ham  Sorry, I'll call later\n",
            "freq    4825                      30\n",
            "\n",
            "<class 'pandas.core.frame.DataFrame'>\n",
            "RangeIndex: 5572 entries, 0 to 5571\n",
            "Data columns (total 2 columns):\n",
            " #   Column     Non-Null Count  Dtype \n",
            "---  ------     --------------  ----- \n",
            " 0   Label      5572 non-null   object\n",
            " 1   EmailText  5572 non-null   object\n",
            "dtypes: object(2)\n",
            "memory usage: 87.2+ KB\n",
            "None\n",
            "\n",
            "(5572, 2)\n"
          ],
          "name": "stdout"
        }
      ]
    },
    {
      "cell_type": "code",
      "metadata": {
        "id": "jsO7RfDK86hR"
      },
      "source": [
        "data = df.to_numpy()"
      ],
      "execution_count": 104,
      "outputs": []
    },
    {
      "cell_type": "code",
      "metadata": {
        "id": "opOcUWl188FS"
      },
      "source": [
        "X = data[:, 1]\n",
        "y = data[:, 0]"
      ],
      "execution_count": 105,
      "outputs": []
    },
    {
      "cell_type": "code",
      "metadata": {
        "colab": {
          "base_uri": "https://localhost:8080/"
        },
        "id": "qba0jp-78-KS",
        "outputId": "318d7f60-3f2b-42dc-ea43-d19ffcf3b027"
      },
      "source": [
        "X.shape, y.shape"
      ],
      "execution_count": 83,
      "outputs": [
        {
          "output_type": "execute_result",
          "data": {
            "text/plain": [
              "((5572,), (5572,))"
            ]
          },
          "metadata": {
            "tags": []
          },
          "execution_count": 83
        }
      ]
    },
    {
      "cell_type": "code",
      "metadata": {
        "id": "p2U1Eztv9ALB"
      },
      "source": [
        "tokenizer = RegexpTokenizer('\\w+')\n",
        "sw = set(stopwords.words('english'))\n",
        "ps = PorterStemmer()"
      ],
      "execution_count": 84,
      "outputs": []
    },
    {
      "cell_type": "code",
      "metadata": {
        "id": "j6rf_NYv9B6J"
      },
      "source": [
        "def getStem(review):\n",
        "    review = review.lower()\n",
        "    tokens = tokenizer.tokenize(review) # breaking into small words\n",
        "    removed_stopwords = [w for w in tokens if w not in sw]\n",
        "    stemmed_words = [ps.stem(token) for token in removed_stopwords]\n",
        "    clean_review = ' '.join(stemmed_words)\n",
        "    return clean_review"
      ],
      "execution_count": 85,
      "outputs": []
    },
    {
      "cell_type": "code",
      "metadata": {
        "id": "d8q5tcQO9Dcx"
      },
      "source": [
        "# to get clean document\n",
        "def getDoc(document):\n",
        "    d = []\n",
        "    for doc in document:\n",
        "        d.append(getStem(doc))\n",
        "    return d"
      ],
      "execution_count": 86,
      "outputs": []
    },
    {
      "cell_type": "code",
      "metadata": {
        "id": "W-4vdS3O9HRx"
      },
      "source": [
        "stemmed_doc = getDoc(X)"
      ],
      "execution_count": 87,
      "outputs": []
    },
    {
      "cell_type": "code",
      "metadata": {
        "colab": {
          "base_uri": "https://localhost:8080/"
        },
        "id": "lcyY1GuG9I35",
        "outputId": "c99b7dcf-504c-47a9-ba2c-67ae42c1d1eb"
      },
      "source": [
        "stemmed_doc[:10]"
      ],
      "execution_count": 88,
      "outputs": [
        {
          "output_type": "execute_result",
          "data": {
            "text/plain": [
              "['go jurong point crazi avail bugi n great world la e buffet cine got amor wat',\n",
              " 'ok lar joke wif u oni',\n",
              " 'free entri 2 wkli comp win fa cup final tkt 21st may 2005 text fa 87121 receiv entri question std txt rate c appli 08452810075over18',\n",
              " 'u dun say earli hor u c alreadi say',\n",
              " 'nah think goe usf live around though',\n",
              " 'freemsg hey darl 3 week word back like fun still tb ok xxx std chg send ã â ã â 1 50 rcv',\n",
              " 'even brother like speak treat like aid patent',\n",
              " 'per request mell mell oru minnaminungint nurungu vettam set callertun caller press 9 copi friend callertun',\n",
              " 'winner valu network custom select receivea ã â ã â 900 prize reward claim call 09061701461 claim code kl341 valid 12 hour',\n",
              " 'mobil 11 month u r entitl updat latest colour mobil camera free call mobil updat co free 08002986030']"
            ]
          },
          "metadata": {
            "tags": []
          },
          "execution_count": 88
        }
      ]
    },
    {
      "cell_type": "code",
      "metadata": {
        "id": "r_KwpcG69KdR"
      },
      "source": [
        "cv = CountVectorizer()"
      ],
      "execution_count": 89,
      "outputs": []
    },
    {
      "cell_type": "code",
      "metadata": {
        "id": "VPmNjFWO9Nl5"
      },
      "source": [
        "# creating vocab\n",
        "vc = cv.fit_transform(stemmed_doc)"
      ],
      "execution_count": 90,
      "outputs": []
    },
    {
      "cell_type": "code",
      "metadata": {
        "id": "fI8oKboY9POx"
      },
      "source": [
        "X = vc.todense()"
      ],
      "execution_count": 91,
      "outputs": []
    },
    {
      "cell_type": "code",
      "metadata": {
        "id": "aR8Qb_lt9PxN"
      },
      "source": [
        "X_train, X_test, y_train, y_test = train_test_split(X, y, test_size=0.33, random_state=42)"
      ],
      "execution_count": 93,
      "outputs": []
    },
    {
      "cell_type": "code",
      "metadata": {
        "id": "PnW1NJ-89R35"
      },
      "source": [
        "# NB from sklearn\n",
        "from sklearn.naive_bayes import MultinomialNB"
      ],
      "execution_count": 94,
      "outputs": []
    },
    {
      "cell_type": "code",
      "metadata": {
        "colab": {
          "base_uri": "https://localhost:8080/"
        },
        "id": "aOfGuUAv9YOR",
        "outputId": "7d7a4a50-12be-4d6f-af94-0ea20da9380c"
      },
      "source": [
        "model = MultinomialNB()\n",
        "model.fit(X_train, y_train)\n",
        "print('Accuracy=',model.score(X_test, y_test)*100)"
      ],
      "execution_count": 97,
      "outputs": [
        {
          "output_type": "stream",
          "text": [
            "Accuracy= 97.77052746057639\n"
          ],
          "name": "stdout"
        }
      ]
    },
    {
      "cell_type": "code",
      "metadata": {
        "id": "G9Bzr7AV9ZeR"
      },
      "source": [
        "messages = [\n",
        "    \"\"\"\n",
        "CLAIM BONUS\n",
        "\n",
        "₹ 10,000 Welcome Package\n",
        "\n",
        "+ 30 Free Spins\n",
        "\n",
        "Casino Masters is the brand new casino from the people behind Genesis, Casino Gods and Casino Joy!       \n",
        "Discover Casino Masters today and claim your welcome package of 100% up to ₹ 10,000 + 30 Free Spins when you make your first deposit.\n",
        "You will find the same great games as all of the Genesis predecessor's plus all the brand new games added every month.\n",
        "Click the button below to be one of the first to claim your Casino Masters bonus..\n",
        "\"\"\",\n",
        "\n",
        "\"\"\"\n",
        "Hey,\n",
        "Does the world of FINANCE fascinate you? Do you see yourself making a name out of yourself in the financial world?\n",
        "Well, here is a perfect opportunity for you. \n",
        "David Eccles School of Business (DESB) at University of Utah is organising a webinar on details regarding their Masters course in Finance. \n",
        "The course, which is STEM-designed, offers a perfect opportunity for an amazing career in the finance industry! \n",
        "David Eccles School MSF is #ranked No. 1 in the U.S. for best value by the Financial Times, and top-13 overall by the TFE Times.\n",
        "The course, which has a 95% employment rate,  helps you be prepared for changing dynamics of the financial world. \n",
        "Here's what you learn from the session: \n",
        "\n",
        "Course details\n",
        "Application Process\n",
        "Eligibility Criteria\n",
        "Scholarships\n",
        "Job Prospects\n",
        "You also get waivers on GRE/GMAT & application fee by attending the session! \n",
        "\n",
        "So what are you waiting for?\n",
        "\"\"\"\n",
        "]"
      ],
      "execution_count": 98,
      "outputs": []
    },
    {
      "cell_type": "code",
      "metadata": {
        "id": "6IZFv0An9dH5"
      },
      "source": [
        "def prepare(messages):\n",
        "    d = getDoc(messages)\n",
        "    return cv.transform(d)\n",
        "\n",
        "messages = prepare(messages)"
      ],
      "execution_count": 99,
      "outputs": []
    },
    {
      "cell_type": "code",
      "metadata": {
        "colab": {
          "base_uri": "https://localhost:8080/"
        },
        "id": "Bi3yj7qn9g_a",
        "outputId": "0fbf2c2e-9807-457a-a1b8-8d67917bc947"
      },
      "source": [
        "y_pred = model.predict(messages)\n",
        "y_pred"
      ],
      "execution_count": 100,
      "outputs": [
        {
          "output_type": "execute_result",
          "data": {
            "text/plain": [
              "array(['spam', 'ham'], dtype='<U4')"
            ]
          },
          "metadata": {
            "tags": []
          },
          "execution_count": 100
        }
      ]
    }
  ]
}